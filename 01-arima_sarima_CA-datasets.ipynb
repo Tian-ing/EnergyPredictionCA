{
 "cells": [
  {
   "cell_type": "code",
   "execution_count": null,
   "metadata": {},
   "outputs": [],
   "source": [
    "import pandas as pd\n",
    "import numpy as np\n",
    "from pmdarima import auto_arima\n",
    "import plotly.graph_objects as go\n",
    "from sklearn.metrics import mean_absolute_error, mean_squared_error\n",
    "import os\n"
   ]
  },
  {
   "cell_type": "code",
   "execution_count": null,
   "metadata": {},
   "outputs": [],
   "source": [
    "# !pip install -U kaleido # you need to install for the visualization"
   ]
  },
  {
   "attachments": {},
   "cell_type": "markdown",
   "metadata": {},
   "source": [
    "# using CA Datasets"
   ]
  },
  {
   "cell_type": "code",
   "execution_count": null,
   "metadata": {},
   "outputs": [],
   "source": [
    "# Read the Excel file\n",
    "# Data_Status: Indicates the status of the data. The value \"2020F\" suggests that it is a forecast for the year 2020.\n",
    "# State: Represents the state for which the data is recorded (in this case, \"CA\" for California).\n",
    "# MSN: Stands for \"Monthly State Names\" and refers to the specific energy metric or variable being measured. Examples include ARICD, ARICV, ARTCD, ARTCV, ARTXD, WWTXV, WXICD, WXICV, ZWCDP, ZWHDP.\n",
    "df = pd.read_csv('Datasets/pr_CA.csv')\n",
    "df.drop('Data_Status',axis=1,inplace=True)"
   ]
  },
  {
   "cell_type": "code",
   "execution_count": null,
   "metadata": {},
   "outputs": [],
   "source": [
    "df"
   ]
  },
  {
   "attachments": {},
   "cell_type": "markdown",
   "metadata": {},
   "source": [
    "# Data Satatics"
   ]
  },
  {
   "cell_type": "code",
   "execution_count": null,
   "metadata": {},
   "outputs": [],
   "source": [
    "df.info()"
   ]
  },
  {
   "cell_type": "code",
   "execution_count": null,
   "metadata": {},
   "outputs": [],
   "source": [
    "df.describe()"
   ]
  },
  {
   "cell_type": "code",
   "execution_count": null,
   "metadata": {},
   "outputs": [],
   "source": [
    "# transposed_df = df.set_index(['Data_Status', 'State', 'MSN']).T.reset_index()\n",
    "# # Convert the Timestamp column to datetime\n",
    "# transposed_df['Timestamp'] = pd.to_datetime(transposed_df['Timestamp'])\n"
   ]
  },
  {
   "attachments": {},
   "cell_type": "markdown",
   "metadata": {},
   "source": [
    "# After Transformation of Data"
   ]
  },
  {
   "cell_type": "code",
   "execution_count": null,
   "metadata": {},
   "outputs": [],
   "source": [
    "df# Assuming your DataFrame is called 'df'\n",
    "df_trans = df.melt(id_vars=['State', 'MSN'], var_name='Year', value_name='Yearly Data')\n",
    "# df['Year'] = pd.to_datetime(df['Year'], format='%Y')\n",
    "\n",
    "# Set the 'State', 'MSN', and 'Year' columns as the index\n",
    "df_trans.set_index(['State', 'MSN', 'Year'], inplace=True)\n",
    "\n",
    "# Sort the index in ascending order\n",
    "df_trans.sort_index(inplace=True)\n",
    "\n",
    "# Print the resulting time series DataFrame\n",
    "df_trans.reset_index(inplace=True)\n",
    "df_trans['Year'] = pd.to_datetime(df_trans['Year'], format='%Y')\n",
    "\n",
    "df_trans.head()\n"
   ]
  },
  {
   "attachments": {},
   "cell_type": "markdown",
   "metadata": {},
   "source": [
    "# Modeling the Data"
   ]
  },
  {
   "attachments": {},
   "cell_type": "markdown",
   "metadata": {},
   "source": [
    "## Using ARIMA Model"
   ]
  },
  {
   "cell_type": "code",
   "execution_count": null,
   "metadata": {},
   "outputs": [],
   "source": [
    "os.makedirs('Plots/Arima_results_plots',exist_ok=True)\n",
    "\n",
    "for State in df_trans['State'].unique():\n",
    "    for msn in df_trans['MSN'].unique():\n",
    "        try:\n",
    "            \n",
    "            fig = go.Figure()\n",
    "\n",
    "            print('State : {} and MSN : {}'.format(State,msn))\n",
    "            # Get the energy consumption data for the current country and sector\n",
    "            df_filter = df_trans[(df_trans['State'] == State) & (\n",
    "                df_trans['MSN'] == msn)][['Year', 'Yearly Data']]\n",
    "            df_filter_index = df_filter.set_index('Year')\n",
    "\n",
    "            train_data = df_filter[:-5]\n",
    "            test_data = df_filter[-5:]\n",
    "            \n",
    "            # Prepare the data for modeling\n",
    "            years = df_filter_index.index\n",
    "            energy_consumption = df_filter_index.values.flatten()\n",
    "\n",
    "                    # Split the data into training and testing\n",
    "            # Use all data except the last 5 years for training\n",
    "            Horizan = -5\n",
    "            train_data = energy_consumption[:Horizan]\n",
    "            test_data = energy_consumption[Horizan:]  # Use the last 5 years for testing\n",
    "\n",
    "            # Fit the auto ARIMA model\n",
    "            model = auto_arima(train_data, seasonal=False)\n",
    "            model.fit(train_data)\n",
    "\n",
    "            # Generate predictions\n",
    "            predictions = model.predict(n_periods=len(test_data))\n",
    "            predictions_ahead_in_future = model.predict(n_periods=len(test_data)+15)\n",
    "\n",
    "            # Calculate evaluation metrics\n",
    "            mae = mean_absolute_error(test_data, predictions)\n",
    "            mse = mean_squared_error(test_data, predictions)\n",
    "            mape = np.mean(np.abs((test_data - predictions) / test_data)) * 100\n",
    "\n",
    "            print('Mean Absolute Error (MAE):', np.round(mae,2))\n",
    "            print('Mean Squared Error (MSE):', np.round(mse,2))\n",
    "            print('Mean Absolute Percentage Error (MAPE):', np.round(mape,2))\n",
    "            \n",
    "            # Plot the training data\n",
    "            fig.add_trace(go.Scatter(\n",
    "                x=years[:Horizan], y=train_data, mode='lines+markers', name='Training Data'))\n",
    "\n",
    "            # Plot the predictions\n",
    "            fig.add_trace(go.Scatter(\n",
    "                x=years[Horizan:], y=test_data, mode='lines+markers', name='Actual'))\n",
    "            fig.add_trace(go.Scatter(\n",
    "                x=years[Horizan:], y=predictions, mode='lines+markers', name='Predicted'))\n",
    "\n",
    "            fig.add_trace(go.Scatter(\n",
    "                x=pd.date_range(start = years[Horizan],periods=15,freq='Y'), y=predictions_ahead_in_future, mode='lines+markers', name='Prediction till 2030'))\n",
    "\n",
    "            # Update the layout\n",
    "            fig.update_layout(title=f'Energy Consumption Forecast State using ARIMA : {State} : MSN : {msn} ',\n",
    "                            xaxis_title='Year', yaxis_title='Energy Consumption')\n",
    "\n",
    "            # Show the plot\n",
    "            fig.show()\n",
    "            print(State,msn)\n",
    "            fig.write_image(f'Plots/Arima_results_plots/{State}_{msn}.png')\n",
    "            # break\n",
    "        except:\n",
    "            print('Error occoured in Combination State : {} and MSN : {} Due NaN Value'.format(State,mse))\n"
   ]
  },
  {
   "attachments": {},
   "cell_type": "markdown",
   "metadata": {},
   "source": [
    "## Using Sarima"
   ]
  },
  {
   "cell_type": "code",
   "execution_count": 11,
   "metadata": {},
   "outputs": [
    {
     "name": "stdout",
     "output_type": "stream",
     "text": [
      "State : CA and MSN : ARICD\n",
      "Mean Absolute Error (MAE): 1.7\n",
      "Mean Squared Error (MSE): 3.99\n",
      "Mean Absolute Percentage Error (MAPE): 15.68\n"
     ]
    },
    {
     "data": {
      "application/vnd.plotly.v1+json": {
       "config": {
        "plotlyServerURL": "https://plot.ly"
       },
       "data": [
        {
         "mode": "lines+markers",
         "name": "Training Data",
         "type": "scatter",
         "x": [
          "1970-01-01T00:00:00",
          "1971-01-01T00:00:00",
          "1972-01-01T00:00:00",
          "1973-01-01T00:00:00",
          "1974-01-01T00:00:00",
          "1975-01-01T00:00:00",
          "1976-01-01T00:00:00",
          "1977-01-01T00:00:00",
          "1978-01-01T00:00:00",
          "1979-01-01T00:00:00",
          "1980-01-01T00:00:00",
          "1981-01-01T00:00:00",
          "1982-01-01T00:00:00",
          "1983-01-01T00:00:00",
          "1984-01-01T00:00:00",
          "1985-01-01T00:00:00",
          "1986-01-01T00:00:00",
          "1987-01-01T00:00:00",
          "1988-01-01T00:00:00",
          "1989-01-01T00:00:00",
          "1990-01-01T00:00:00",
          "1991-01-01T00:00:00",
          "1992-01-01T00:00:00",
          "1993-01-01T00:00:00",
          "1994-01-01T00:00:00",
          "1995-01-01T00:00:00",
          "1996-01-01T00:00:00",
          "1997-01-01T00:00:00",
          "1998-01-01T00:00:00",
          "1999-01-01T00:00:00",
          "2000-01-01T00:00:00",
          "2001-01-01T00:00:00",
          "2002-01-01T00:00:00",
          "2003-01-01T00:00:00",
          "2004-01-01T00:00:00",
          "2005-01-01T00:00:00",
          "2006-01-01T00:00:00",
          "2007-01-01T00:00:00",
          "2008-01-01T00:00:00",
          "2009-01-01T00:00:00",
          "2010-01-01T00:00:00",
          "2011-01-01T00:00:00",
          "2012-01-01T00:00:00",
          "2013-01-01T00:00:00",
          "2014-01-01T00:00:00",
          "2015-01-01T00:00:00"
         ],
         "y": [
          0.49,
          0.64,
          0.64,
          0.69,
          1.47,
          1.62,
          1.6,
          1.7,
          1.81,
          2.72,
          3.78,
          4.59,
          3.98,
          4.4,
          4.56,
          4.78,
          5.08,
          5.36,
          4.53,
          3.1,
          3.13,
          3.18,
          2.74,
          2.6,
          2.95,
          3.09,
          3.41,
          3.51,
          3.68,
          3.6,
          3.43,
          3.91,
          4.06,
          4.5,
          4.74,
          5.04,
          5.7,
          7.37,
          7.52,
          12.98,
          13.11,
          14.83,
          16.79,
          15.59,
          15.97,
          13.57
         ]
        },
        {
         "mode": "lines+markers",
         "name": "Actual",
         "type": "scatter",
         "x": [
          "2016-01-01T00:00:00",
          "2017-01-01T00:00:00",
          "2018-01-01T00:00:00",
          "2019-01-01T00:00:00",
          "2020-01-01T00:00:00"
         ],
         "y": [
          10.04,
          9.9,
          12.56,
          13.42,
          11.36
         ]
        },
        {
         "mode": "lines+markers",
         "name": "Predicted",
         "type": "scatter",
         "x": [
          "2016-01-01T00:00:00",
          "2017-01-01T00:00:00",
          "2018-01-01T00:00:00",
          "2019-01-01T00:00:00",
          "2020-01-01T00:00:00"
         ],
         "y": [
          13.319596475812352,
          12.131845058927931,
          11.615767822148637,
          11.615767822148637,
          11.615767822148637
         ]
        },
        {
         "mode": "lines+markers",
         "name": "Prediction till 2030",
         "type": "scatter",
         "x": [
          "2016-12-31T00:00:00",
          "2017-12-31T00:00:00",
          "2018-12-31T00:00:00",
          "2019-12-31T00:00:00",
          "2020-12-31T00:00:00",
          "2021-12-31T00:00:00",
          "2022-12-31T00:00:00",
          "2023-12-31T00:00:00",
          "2024-12-31T00:00:00",
          "2025-12-31T00:00:00",
          "2026-12-31T00:00:00",
          "2027-12-31T00:00:00",
          "2028-12-31T00:00:00",
          "2029-12-31T00:00:00",
          "2030-12-31T00:00:00"
         ],
         "y": [
          13.319596475812352,
          12.131845058927931,
          11.615767822148637,
          11.615767822148637,
          11.615767822148637,
          11.615767822148637,
          11.615767822148637,
          11.615767822148637,
          11.615767822148637,
          11.615767822148637,
          11.615767822148637,
          11.615767822148637,
          11.615767822148637,
          11.615767822148637,
          11.615767822148637,
          11.615767822148637,
          11.615767822148637,
          11.615767822148637,
          11.615767822148637,
          11.615767822148637
         ]
        }
       ],
       "layout": {
        "template": {
         "data": {
          "bar": [
           {
            "error_x": {
             "color": "#2a3f5f"
            },
            "error_y": {
             "color": "#2a3f5f"
            },
            "marker": {
             "line": {
              "color": "#E5ECF6",
              "width": 0.5
             },
             "pattern": {
              "fillmode": "overlay",
              "size": 10,
              "solidity": 0.2
             }
            },
            "type": "bar"
           }
          ],
          "barpolar": [
           {
            "marker": {
             "line": {
              "color": "#E5ECF6",
              "width": 0.5
             },
             "pattern": {
              "fillmode": "overlay",
              "size": 10,
              "solidity": 0.2
             }
            },
            "type": "barpolar"
           }
          ],
          "carpet": [
           {
            "aaxis": {
             "endlinecolor": "#2a3f5f",
             "gridcolor": "white",
             "linecolor": "white",
             "minorgridcolor": "white",
             "startlinecolor": "#2a3f5f"
            },
            "baxis": {
             "endlinecolor": "#2a3f5f",
             "gridcolor": "white",
             "linecolor": "white",
             "minorgridcolor": "white",
             "startlinecolor": "#2a3f5f"
            },
            "type": "carpet"
           }
          ],
          "choropleth": [
           {
            "colorbar": {
             "outlinewidth": 0,
             "ticks": ""
            },
            "type": "choropleth"
           }
          ],
          "contour": [
           {
            "colorbar": {
             "outlinewidth": 0,
             "ticks": ""
            },
            "colorscale": [
             [
              0,
              "#0d0887"
             ],
             [
              0.1111111111111111,
              "#46039f"
             ],
             [
              0.2222222222222222,
              "#7201a8"
             ],
             [
              0.3333333333333333,
              "#9c179e"
             ],
             [
              0.4444444444444444,
              "#bd3786"
             ],
             [
              0.5555555555555556,
              "#d8576b"
             ],
             [
              0.6666666666666666,
              "#ed7953"
             ],
             [
              0.7777777777777778,
              "#fb9f3a"
             ],
             [
              0.8888888888888888,
              "#fdca26"
             ],
             [
              1,
              "#f0f921"
             ]
            ],
            "type": "contour"
           }
          ],
          "contourcarpet": [
           {
            "colorbar": {
             "outlinewidth": 0,
             "ticks": ""
            },
            "type": "contourcarpet"
           }
          ],
          "heatmap": [
           {
            "colorbar": {
             "outlinewidth": 0,
             "ticks": ""
            },
            "colorscale": [
             [
              0,
              "#0d0887"
             ],
             [
              0.1111111111111111,
              "#46039f"
             ],
             [
              0.2222222222222222,
              "#7201a8"
             ],
             [
              0.3333333333333333,
              "#9c179e"
             ],
             [
              0.4444444444444444,
              "#bd3786"
             ],
             [
              0.5555555555555556,
              "#d8576b"
             ],
             [
              0.6666666666666666,
              "#ed7953"
             ],
             [
              0.7777777777777778,
              "#fb9f3a"
             ],
             [
              0.8888888888888888,
              "#fdca26"
             ],
             [
              1,
              "#f0f921"
             ]
            ],
            "type": "heatmap"
           }
          ],
          "heatmapgl": [
           {
            "colorbar": {
             "outlinewidth": 0,
             "ticks": ""
            },
            "colorscale": [
             [
              0,
              "#0d0887"
             ],
             [
              0.1111111111111111,
              "#46039f"
             ],
             [
              0.2222222222222222,
              "#7201a8"
             ],
             [
              0.3333333333333333,
              "#9c179e"
             ],
             [
              0.4444444444444444,
              "#bd3786"
             ],
             [
              0.5555555555555556,
              "#d8576b"
             ],
             [
              0.6666666666666666,
              "#ed7953"
             ],
             [
              0.7777777777777778,
              "#fb9f3a"
             ],
             [
              0.8888888888888888,
              "#fdca26"
             ],
             [
              1,
              "#f0f921"
             ]
            ],
            "type": "heatmapgl"
           }
          ],
          "histogram": [
           {
            "marker": {
             "pattern": {
              "fillmode": "overlay",
              "size": 10,
              "solidity": 0.2
             }
            },
            "type": "histogram"
           }
          ],
          "histogram2d": [
           {
            "colorbar": {
             "outlinewidth": 0,
             "ticks": ""
            },
            "colorscale": [
             [
              0,
              "#0d0887"
             ],
             [
              0.1111111111111111,
              "#46039f"
             ],
             [
              0.2222222222222222,
              "#7201a8"
             ],
             [
              0.3333333333333333,
              "#9c179e"
             ],
             [
              0.4444444444444444,
              "#bd3786"
             ],
             [
              0.5555555555555556,
              "#d8576b"
             ],
             [
              0.6666666666666666,
              "#ed7953"
             ],
             [
              0.7777777777777778,
              "#fb9f3a"
             ],
             [
              0.8888888888888888,
              "#fdca26"
             ],
             [
              1,
              "#f0f921"
             ]
            ],
            "type": "histogram2d"
           }
          ],
          "histogram2dcontour": [
           {
            "colorbar": {
             "outlinewidth": 0,
             "ticks": ""
            },
            "colorscale": [
             [
              0,
              "#0d0887"
             ],
             [
              0.1111111111111111,
              "#46039f"
             ],
             [
              0.2222222222222222,
              "#7201a8"
             ],
             [
              0.3333333333333333,
              "#9c179e"
             ],
             [
              0.4444444444444444,
              "#bd3786"
             ],
             [
              0.5555555555555556,
              "#d8576b"
             ],
             [
              0.6666666666666666,
              "#ed7953"
             ],
             [
              0.7777777777777778,
              "#fb9f3a"
             ],
             [
              0.8888888888888888,
              "#fdca26"
             ],
             [
              1,
              "#f0f921"
             ]
            ],
            "type": "histogram2dcontour"
           }
          ],
          "mesh3d": [
           {
            "colorbar": {
             "outlinewidth": 0,
             "ticks": ""
            },
            "type": "mesh3d"
           }
          ],
          "parcoords": [
           {
            "line": {
             "colorbar": {
              "outlinewidth": 0,
              "ticks": ""
             }
            },
            "type": "parcoords"
           }
          ],
          "pie": [
           {
            "automargin": true,
            "type": "pie"
           }
          ],
          "scatter": [
           {
            "fillpattern": {
             "fillmode": "overlay",
             "size": 10,
             "solidity": 0.2
            },
            "type": "scatter"
           }
          ],
          "scatter3d": [
           {
            "line": {
             "colorbar": {
              "outlinewidth": 0,
              "ticks": ""
             }
            },
            "marker": {
             "colorbar": {
              "outlinewidth": 0,
              "ticks": ""
             }
            },
            "type": "scatter3d"
           }
          ],
          "scattercarpet": [
           {
            "marker": {
             "colorbar": {
              "outlinewidth": 0,
              "ticks": ""
             }
            },
            "type": "scattercarpet"
           }
          ],
          "scattergeo": [
           {
            "marker": {
             "colorbar": {
              "outlinewidth": 0,
              "ticks": ""
             }
            },
            "type": "scattergeo"
           }
          ],
          "scattergl": [
           {
            "marker": {
             "colorbar": {
              "outlinewidth": 0,
              "ticks": ""
             }
            },
            "type": "scattergl"
           }
          ],
          "scattermapbox": [
           {
            "marker": {
             "colorbar": {
              "outlinewidth": 0,
              "ticks": ""
             }
            },
            "type": "scattermapbox"
           }
          ],
          "scatterpolar": [
           {
            "marker": {
             "colorbar": {
              "outlinewidth": 0,
              "ticks": ""
             }
            },
            "type": "scatterpolar"
           }
          ],
          "scatterpolargl": [
           {
            "marker": {
             "colorbar": {
              "outlinewidth": 0,
              "ticks": ""
             }
            },
            "type": "scatterpolargl"
           }
          ],
          "scatterternary": [
           {
            "marker": {
             "colorbar": {
              "outlinewidth": 0,
              "ticks": ""
             }
            },
            "type": "scatterternary"
           }
          ],
          "surface": [
           {
            "colorbar": {
             "outlinewidth": 0,
             "ticks": ""
            },
            "colorscale": [
             [
              0,
              "#0d0887"
             ],
             [
              0.1111111111111111,
              "#46039f"
             ],
             [
              0.2222222222222222,
              "#7201a8"
             ],
             [
              0.3333333333333333,
              "#9c179e"
             ],
             [
              0.4444444444444444,
              "#bd3786"
             ],
             [
              0.5555555555555556,
              "#d8576b"
             ],
             [
              0.6666666666666666,
              "#ed7953"
             ],
             [
              0.7777777777777778,
              "#fb9f3a"
             ],
             [
              0.8888888888888888,
              "#fdca26"
             ],
             [
              1,
              "#f0f921"
             ]
            ],
            "type": "surface"
           }
          ],
          "table": [
           {
            "cells": {
             "fill": {
              "color": "#EBF0F8"
             },
             "line": {
              "color": "white"
             }
            },
            "header": {
             "fill": {
              "color": "#C8D4E3"
             },
             "line": {
              "color": "white"
             }
            },
            "type": "table"
           }
          ]
         },
         "layout": {
          "annotationdefaults": {
           "arrowcolor": "#2a3f5f",
           "arrowhead": 0,
           "arrowwidth": 1
          },
          "autotypenumbers": "strict",
          "coloraxis": {
           "colorbar": {
            "outlinewidth": 0,
            "ticks": ""
           }
          },
          "colorscale": {
           "diverging": [
            [
             0,
             "#8e0152"
            ],
            [
             0.1,
             "#c51b7d"
            ],
            [
             0.2,
             "#de77ae"
            ],
            [
             0.3,
             "#f1b6da"
            ],
            [
             0.4,
             "#fde0ef"
            ],
            [
             0.5,
             "#f7f7f7"
            ],
            [
             0.6,
             "#e6f5d0"
            ],
            [
             0.7,
             "#b8e186"
            ],
            [
             0.8,
             "#7fbc41"
            ],
            [
             0.9,
             "#4d9221"
            ],
            [
             1,
             "#276419"
            ]
           ],
           "sequential": [
            [
             0,
             "#0d0887"
            ],
            [
             0.1111111111111111,
             "#46039f"
            ],
            [
             0.2222222222222222,
             "#7201a8"
            ],
            [
             0.3333333333333333,
             "#9c179e"
            ],
            [
             0.4444444444444444,
             "#bd3786"
            ],
            [
             0.5555555555555556,
             "#d8576b"
            ],
            [
             0.6666666666666666,
             "#ed7953"
            ],
            [
             0.7777777777777778,
             "#fb9f3a"
            ],
            [
             0.8888888888888888,
             "#fdca26"
            ],
            [
             1,
             "#f0f921"
            ]
           ],
           "sequentialminus": [
            [
             0,
             "#0d0887"
            ],
            [
             0.1111111111111111,
             "#46039f"
            ],
            [
             0.2222222222222222,
             "#7201a8"
            ],
            [
             0.3333333333333333,
             "#9c179e"
            ],
            [
             0.4444444444444444,
             "#bd3786"
            ],
            [
             0.5555555555555556,
             "#d8576b"
            ],
            [
             0.6666666666666666,
             "#ed7953"
            ],
            [
             0.7777777777777778,
             "#fb9f3a"
            ],
            [
             0.8888888888888888,
             "#fdca26"
            ],
            [
             1,
             "#f0f921"
            ]
           ]
          },
          "colorway": [
           "#636efa",
           "#EF553B",
           "#00cc96",
           "#ab63fa",
           "#FFA15A",
           "#19d3f3",
           "#FF6692",
           "#B6E880",
           "#FF97FF",
           "#FECB52"
          ],
          "font": {
           "color": "#2a3f5f"
          },
          "geo": {
           "bgcolor": "white",
           "lakecolor": "white",
           "landcolor": "#E5ECF6",
           "showlakes": true,
           "showland": true,
           "subunitcolor": "white"
          },
          "hoverlabel": {
           "align": "left"
          },
          "hovermode": "closest",
          "mapbox": {
           "style": "light"
          },
          "paper_bgcolor": "white",
          "plot_bgcolor": "#E5ECF6",
          "polar": {
           "angularaxis": {
            "gridcolor": "white",
            "linecolor": "white",
            "ticks": ""
           },
           "bgcolor": "#E5ECF6",
           "radialaxis": {
            "gridcolor": "white",
            "linecolor": "white",
            "ticks": ""
           }
          },
          "scene": {
           "xaxis": {
            "backgroundcolor": "#E5ECF6",
            "gridcolor": "white",
            "gridwidth": 2,
            "linecolor": "white",
            "showbackground": true,
            "ticks": "",
            "zerolinecolor": "white"
           },
           "yaxis": {
            "backgroundcolor": "#E5ECF6",
            "gridcolor": "white",
            "gridwidth": 2,
            "linecolor": "white",
            "showbackground": true,
            "ticks": "",
            "zerolinecolor": "white"
           },
           "zaxis": {
            "backgroundcolor": "#E5ECF6",
            "gridcolor": "white",
            "gridwidth": 2,
            "linecolor": "white",
            "showbackground": true,
            "ticks": "",
            "zerolinecolor": "white"
           }
          },
          "shapedefaults": {
           "line": {
            "color": "#2a3f5f"
           }
          },
          "ternary": {
           "aaxis": {
            "gridcolor": "white",
            "linecolor": "white",
            "ticks": ""
           },
           "baxis": {
            "gridcolor": "white",
            "linecolor": "white",
            "ticks": ""
           },
           "bgcolor": "#E5ECF6",
           "caxis": {
            "gridcolor": "white",
            "linecolor": "white",
            "ticks": ""
           }
          },
          "title": {
           "x": 0.05
          },
          "xaxis": {
           "automargin": true,
           "gridcolor": "white",
           "linecolor": "white",
           "ticks": "",
           "title": {
            "standoff": 15
           },
           "zerolinecolor": "white",
           "zerolinewidth": 2
          },
          "yaxis": {
           "automargin": true,
           "gridcolor": "white",
           "linecolor": "white",
           "ticks": "",
           "title": {
            "standoff": 15
           },
           "zerolinecolor": "white",
           "zerolinewidth": 2
          }
         }
        },
        "title": {
         "text": "Energy Consumption Forecast State : CA : MSN : ARICD "
        },
        "xaxis": {
         "title": {
          "text": "Year"
         }
        },
        "yaxis": {
         "title": {
          "text": "Energy Consumption"
         }
        }
       }
      }
     },
     "metadata": {},
     "output_type": "display_data"
    },
    {
     "name": "stdout",
     "output_type": "stream",
     "text": [
      "CA ARICD\n"
     ]
    }
   ],
   "source": [
    "os.makedirs('Plots/Sarima_results_plots',exist_ok=True)\n",
    "\n",
    "for State in df_trans['State'].unique():\n",
    "    for msn in df_trans['MSN'].unique():\n",
    "        try:\n",
    "            \n",
    "            fig = go.Figure()\n",
    "\n",
    "            print('State : {} and MSN : {}'.format(State,msn))\n",
    "            # Get the energy consumption data for the current country and sector\n",
    "            df_filter = df_trans[(df_trans['State'] == State) & (\n",
    "                df_trans['MSN'] == msn)][['Year', 'Yearly Data']]\n",
    "            df_filter_index = df_filter.set_index('Year')\n",
    "\n",
    "            train_data = df_filter[:-5]\n",
    "            test_data = df_filter[-5:]\n",
    "            \n",
    "            # Prepare the data for modeling\n",
    "            years = df_filter_index.index\n",
    "            energy_consumption = df_filter_index.values.flatten()\n",
    "\n",
    "                    # Split the data into training and testing\n",
    "            # Use all data except the last 5 years for training\n",
    "            Horizan = -5\n",
    "            train_data = energy_consumption[:Horizan]\n",
    "            test_data = energy_consumption[Horizan:]  # Use the last 5 years for testing\n",
    "\n",
    "            # Fit the auto ARIMA model\n",
    "            model = auto_arima(train_data, seasonal=True)\n",
    "            model.fit(train_data)\n",
    "\n",
    "            # Generate predictions\n",
    "            predictions = model.predict(n_periods=len(test_data))\n",
    "            predictions_ahead_in_future = model.predict(n_periods=len(test_data)+15)\n",
    "\n",
    "            # Calculate evaluation metrics\n",
    "            mae = mean_absolute_error(test_data, predictions)\n",
    "            mse = mean_squared_error(test_data, predictions)\n",
    "            mape = np.mean(np.abs((test_data - predictions) / test_data)) * 100\n",
    "\n",
    "            print('Mean Absolute Error (MAE):', np.round(mae,2))\n",
    "            print('Mean Squared Error (MSE):', np.round(mse,2))\n",
    "            print('Mean Absolute Percentage Error (MAPE):', np.round(mape,2))\n",
    "            \n",
    "            # Plot the training data\n",
    "            fig.add_trace(go.Scatter(\n",
    "                x=years[:Horizan], y=train_data, mode='lines+markers', name='Training Data'))\n",
    "\n",
    "            # Plot the predictions\n",
    "            fig.add_trace(go.Scatter(\n",
    "                x=years[Horizan:], y=test_data, mode='lines+markers', name='Actual'))\n",
    "            fig.add_trace(go.Scatter(\n",
    "                x=years[Horizan:], y=predictions, mode='lines+markers', name='Predicted'))\n",
    "\n",
    "            fig.add_trace(go.Scatter(\n",
    "                x=pd.date_range(start = years[Horizan],periods=15,freq='Y'), y=predictions_ahead_in_future, mode='lines+markers', name='Prediction till 2030'))\n",
    "\n",
    "            # Update the layout\n",
    "            fig.update_layout(title=f'Energy Consumption Forecast State using SARIMA : {State} : MSN : {msn} ',\n",
    "                            xaxis_title='Year', yaxis_title='Energy Consumption')\n",
    "\n",
    "            # Show the plot\n",
    "            fig.show()\n",
    "            print(State,msn)\n",
    "            fig.write_image(f'Plots/Sarima_results_plots/{State}_{msn}.png')\n",
    "            # break\n",
    "        except:\n",
    "            print('Error occoured in Combination State : {} and MSN : {} Due NaN Value'.format(State,mse))\n",
    "        break"
   ]
  }
 ],
 "metadata": {
  "kernelspec": {
   "display_name": "sep_darts_2",
   "language": "python",
   "name": "python3"
  },
  "language_info": {
   "codemirror_mode": {
    "name": "ipython",
    "version": 3
   },
   "file_extension": ".py",
   "mimetype": "text/x-python",
   "name": "python",
   "nbconvert_exporter": "python",
   "pygments_lexer": "ipython3",
   "version": "3.11.3"
  },
  "orig_nbformat": 4
 },
 "nbformat": 4,
 "nbformat_minor": 2
}
