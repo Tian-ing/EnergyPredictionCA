{
 "cells": [
  {
   "cell_type": "code",
   "execution_count": 60,
   "id": "3fb3715c",
   "metadata": {},
   "outputs": [],
   "source": [
    "import pandas as pd\n",
    "import numpy as np\n",
    "import joblib\n",
    "import matplotlib.pyplot as plt\n",
    "from sklearn.model_selection import train_test_split\n",
    "from sklearn.metrics import make_scorer"
   ]
  },
  {
   "cell_type": "code",
   "execution_count": 61,
   "id": "df04fb78",
   "metadata": {},
   "outputs": [],
   "source": [
    "data = pd.read_csv(\"dataCA/pr_CA.csv\",index_col=\"MSN\")\n",
    "\n",
    "data2 = data.drop(['Data_Status', 'State'],axis=1)\n",
    "data2\n",
    "a = \"1046492 1167142 1,192,848\t1,189,801\t1,148,722\t1,220,587\t1,202,586\t1,154,079\t1,196,279\t1,290,698\t1,226,364\t1,192,869\t1,232,826\t1,226,313\t1,227,952\t1,304,360\t1,217,724\t1,308,727\t1,359,856\t1,420,797\t1,367,856\t1,367,567\t1,355,310\t1,354,131\t1,369,438\t1,325,392\t1,361,384\t1,358,381\t1,486,214\t1,485,795\t1,426,721\t1,417,985\t1,425,659\t1,455,716\t1,489,320\t1,449,101\t1,488,574\t1,474,374\t1,511,586\t1,483,981\t1,466,657\t1,500,559\t1,437,024\t1,440,463\t1,355,028\t1,347,770\t1,367,103\t1,415,455\t1,440,273\t1,455,751\t1,507,721\"\n",
    "a = a.split()\n",
    "a = a[:]\n",
    "Resid_total = pd.DataFrame(a)\n",
    "Resid_total = Resid_total.T\n",
    "Resid_total.rename(index={0:\"ResidCA\"},inplace=True)\n",
    "Resid_total\n",
    "Resid_total.columns = data2.columns\n",
    "data2 = data2.fillna(0)"
   ]
  },
  {
   "cell_type": "code",
   "execution_count": 62,
   "id": "8482e5de",
   "metadata": {},
   "outputs": [],
   "source": [
    "X = data2.transpose()\n",
    "y = Resid_total.transpose()\n",
    "X_train, X_test, y_train, y_test = train_test_split(X, y, test_size=0.2, random_state=42)"
   ]
  },
  {
   "cell_type": "code",
   "execution_count": 63,
   "id": "4f5be5ff",
   "metadata": {},
   "outputs": [],
   "source": [
    "from sklearn.tree import DecisionTreeClassifier\n",
    "dt = DecisionTreeClassifier()\n",
    "dt.fit(X_train, y_train)\n",
    "y_pred = dt.predict(X_test)"
   ]
  },
  {
   "cell_type": "code",
   "execution_count": 64,
   "id": "352ff026",
   "metadata": {},
   "outputs": [
    {
     "data": {
      "text/plain": [
       "array(['1,437,024', '1,483,981', '1,488,574', '1,290,698', '1,354,131',\n",
       "       '1,354,131', '1,359,856', '1,354,131', '1167142', '1,355,310',\n",
       "       '1,192,869'], dtype=object)"
      ]
     },
     "execution_count": 64,
     "metadata": {},
     "output_type": "execute_result"
    }
   ],
   "source": [
    "y_pred"
   ]
  },
  {
   "cell_type": "code",
   "execution_count": 65,
   "id": "4950e9ea",
   "metadata": {},
   "outputs": [
    {
     "data": {
      "text/html": [
       "<div>\n",
       "<style scoped>\n",
       "    .dataframe tbody tr th:only-of-type {\n",
       "        vertical-align: middle;\n",
       "    }\n",
       "\n",
       "    .dataframe tbody tr th {\n",
       "        vertical-align: top;\n",
       "    }\n",
       "\n",
       "    .dataframe thead th {\n",
       "        text-align: right;\n",
       "    }\n",
       "</style>\n",
       "<table border=\"1\" class=\"dataframe\">\n",
       "  <thead>\n",
       "    <tr style=\"text-align: right;\">\n",
       "      <th></th>\n",
       "      <th>ResidCA</th>\n",
       "    </tr>\n",
       "  </thead>\n",
       "  <tbody>\n",
       "    <tr>\n",
       "      <th>2013</th>\n",
       "      <td>1,440,463</td>\n",
       "    </tr>\n",
       "    <tr>\n",
       "      <th>2010</th>\n",
       "      <td>1,466,657</td>\n",
       "    </tr>\n",
       "    <tr>\n",
       "      <th>2016</th>\n",
       "      <td>1,367,103</td>\n",
       "    </tr>\n",
       "    <tr>\n",
       "      <th>1982</th>\n",
       "      <td>1,232,826</td>\n",
       "    </tr>\n",
       "    <tr>\n",
       "      <th>1994</th>\n",
       "      <td>1,369,438</td>\n",
       "    </tr>\n",
       "    <tr>\n",
       "      <th>2001</th>\n",
       "      <td>1,417,985</td>\n",
       "    </tr>\n",
       "    <tr>\n",
       "      <th>1987</th>\n",
       "      <td>1,308,727</td>\n",
       "    </tr>\n",
       "    <tr>\n",
       "      <th>2002</th>\n",
       "      <td>1,425,659</td>\n",
       "    </tr>\n",
       "    <tr>\n",
       "      <th>1973</th>\n",
       "      <td>1,189,801</td>\n",
       "    </tr>\n",
       "    <tr>\n",
       "      <th>2000</th>\n",
       "      <td>1,426,721</td>\n",
       "    </tr>\n",
       "    <tr>\n",
       "      <th>1983</th>\n",
       "      <td>1,226,313</td>\n",
       "    </tr>\n",
       "  </tbody>\n",
       "</table>\n",
       "</div>"
      ],
      "text/plain": [
       "        ResidCA\n",
       "2013  1,440,463\n",
       "2010  1,466,657\n",
       "2016  1,367,103\n",
       "1982  1,232,826\n",
       "1994  1,369,438\n",
       "2001  1,417,985\n",
       "1987  1,308,727\n",
       "2002  1,425,659\n",
       "1973  1,189,801\n",
       "2000  1,426,721\n",
       "1983  1,226,313"
      ]
     },
     "execution_count": 65,
     "metadata": {},
     "output_type": "execute_result"
    }
   ],
   "source": [
    "y_test"
   ]
  },
  {
   "cell_type": "code",
   "execution_count": 66,
   "id": "220899ce",
   "metadata": {},
   "outputs": [],
   "source": [
    "y_test['Prediction'] = y_pred\n",
    "y_test['ResidCA'] = y_test['ResidCA'].str.replace(',', '').astype(int)\n",
    "y_test['Prediction'] = y_test['Prediction'].str.replace(',', '').astype(int)\n",
    "y_test = y_test.sort_index(ascending=True)"
   ]
  },
  {
   "cell_type": "code",
   "execution_count": 67,
   "id": "e74fcb1a",
   "metadata": {},
   "outputs": [
    {
     "data": {
      "text/html": [
       "<div>\n",
       "<style scoped>\n",
       "    .dataframe tbody tr th:only-of-type {\n",
       "        vertical-align: middle;\n",
       "    }\n",
       "\n",
       "    .dataframe tbody tr th {\n",
       "        vertical-align: top;\n",
       "    }\n",
       "\n",
       "    .dataframe thead th {\n",
       "        text-align: right;\n",
       "    }\n",
       "</style>\n",
       "<table border=\"1\" class=\"dataframe\">\n",
       "  <thead>\n",
       "    <tr style=\"text-align: right;\">\n",
       "      <th></th>\n",
       "      <th>ResidCA</th>\n",
       "      <th>Prediction</th>\n",
       "    </tr>\n",
       "  </thead>\n",
       "  <tbody>\n",
       "    <tr>\n",
       "      <th>1973</th>\n",
       "      <td>1189801</td>\n",
       "      <td>1167142</td>\n",
       "    </tr>\n",
       "    <tr>\n",
       "      <th>1982</th>\n",
       "      <td>1232826</td>\n",
       "      <td>1290698</td>\n",
       "    </tr>\n",
       "    <tr>\n",
       "      <th>1983</th>\n",
       "      <td>1226313</td>\n",
       "      <td>1192869</td>\n",
       "    </tr>\n",
       "    <tr>\n",
       "      <th>1987</th>\n",
       "      <td>1308727</td>\n",
       "      <td>1359856</td>\n",
       "    </tr>\n",
       "    <tr>\n",
       "      <th>1994</th>\n",
       "      <td>1369438</td>\n",
       "      <td>1354131</td>\n",
       "    </tr>\n",
       "    <tr>\n",
       "      <th>2000</th>\n",
       "      <td>1426721</td>\n",
       "      <td>1355310</td>\n",
       "    </tr>\n",
       "    <tr>\n",
       "      <th>2001</th>\n",
       "      <td>1417985</td>\n",
       "      <td>1354131</td>\n",
       "    </tr>\n",
       "    <tr>\n",
       "      <th>2002</th>\n",
       "      <td>1425659</td>\n",
       "      <td>1354131</td>\n",
       "    </tr>\n",
       "    <tr>\n",
       "      <th>2010</th>\n",
       "      <td>1466657</td>\n",
       "      <td>1483981</td>\n",
       "    </tr>\n",
       "    <tr>\n",
       "      <th>2013</th>\n",
       "      <td>1440463</td>\n",
       "      <td>1437024</td>\n",
       "    </tr>\n",
       "    <tr>\n",
       "      <th>2016</th>\n",
       "      <td>1367103</td>\n",
       "      <td>1488574</td>\n",
       "    </tr>\n",
       "  </tbody>\n",
       "</table>\n",
       "</div>"
      ],
      "text/plain": [
       "      ResidCA  Prediction\n",
       "1973  1189801     1167142\n",
       "1982  1232826     1290698\n",
       "1983  1226313     1192869\n",
       "1987  1308727     1359856\n",
       "1994  1369438     1354131\n",
       "2000  1426721     1355310\n",
       "2001  1417985     1354131\n",
       "2002  1425659     1354131\n",
       "2010  1466657     1483981\n",
       "2013  1440463     1437024\n",
       "2016  1367103     1488574"
      ]
     },
     "execution_count": 67,
     "metadata": {},
     "output_type": "execute_result"
    }
   ],
   "source": [
    "y_test"
   ]
  },
  {
   "cell_type": "code",
   "execution_count": 68,
   "id": "8ec45339",
   "metadata": {},
   "outputs": [
    {
     "data": {
      "text/plain": [
       "<AxesSubplot:>"
      ]
     },
     "execution_count": 68,
     "metadata": {},
     "output_type": "execute_result"
    },
    {
     "data": {
      "image/png": "[encoded data removed]",
      "text/plain": [
       "<Figure size 640x480 with 1 Axes>"
      ]
     },
     "metadata": {},
     "output_type": "display_data"
    }
   ],
   "source": [
    "y_test.plot()"
   ]
  },
  {
   "cell_type": "code",
   "execution_count": 69,
   "id": "149e38a0",
   "metadata": {},
   "outputs": [
    {
     "data": {
      "text/html": [
       "<div>\n",
       "<style scoped>\n",
       "    .dataframe tbody tr th:only-of-type {\n",
       "        vertical-align: middle;\n",
       "    }\n",
       "\n",
       "    .dataframe tbody tr th {\n",
       "        vertical-align: top;\n",
       "    }\n",
       "\n",
       "    .dataframe thead th {\n",
       "        text-align: right;\n",
       "    }\n",
       "</style>\n",
       "<table border=\"1\" class=\"dataframe\">\n",
       "  <thead>\n",
       "    <tr style=\"text-align: right;\">\n",
       "      <th></th>\n",
       "      <th>ResidCA</th>\n",
       "      <th>Prediction</th>\n",
       "      <th>Difference</th>\n",
       "      <th>% Difference</th>\n",
       "    </tr>\n",
       "  </thead>\n",
       "  <tbody>\n",
       "    <tr>\n",
       "      <th>1973</th>\n",
       "      <td>1189801</td>\n",
       "      <td>1167142</td>\n",
       "      <td>22659</td>\n",
       "      <td>1.904436</td>\n",
       "    </tr>\n",
       "    <tr>\n",
       "      <th>1982</th>\n",
       "      <td>1232826</td>\n",
       "      <td>1290698</td>\n",
       "      <td>-57872</td>\n",
       "      <td>-4.694255</td>\n",
       "    </tr>\n",
       "    <tr>\n",
       "      <th>1983</th>\n",
       "      <td>1226313</td>\n",
       "      <td>1192869</td>\n",
       "      <td>33444</td>\n",
       "      <td>2.727199</td>\n",
       "    </tr>\n",
       "    <tr>\n",
       "      <th>1987</th>\n",
       "      <td>1308727</td>\n",
       "      <td>1359856</td>\n",
       "      <td>-51129</td>\n",
       "      <td>-3.906774</td>\n",
       "    </tr>\n",
       "    <tr>\n",
       "      <th>1994</th>\n",
       "      <td>1369438</td>\n",
       "      <td>1354131</td>\n",
       "      <td>15307</td>\n",
       "      <td>1.117758</td>\n",
       "    </tr>\n",
       "    <tr>\n",
       "      <th>2000</th>\n",
       "      <td>1426721</td>\n",
       "      <td>1355310</td>\n",
       "      <td>71411</td>\n",
       "      <td>5.005253</td>\n",
       "    </tr>\n",
       "    <tr>\n",
       "      <th>2001</th>\n",
       "      <td>1417985</td>\n",
       "      <td>1354131</td>\n",
       "      <td>63854</td>\n",
       "      <td>4.503151</td>\n",
       "    </tr>\n",
       "    <tr>\n",
       "      <th>2002</th>\n",
       "      <td>1425659</td>\n",
       "      <td>1354131</td>\n",
       "      <td>71528</td>\n",
       "      <td>5.017189</td>\n",
       "    </tr>\n",
       "    <tr>\n",
       "      <th>2010</th>\n",
       "      <td>1466657</td>\n",
       "      <td>1483981</td>\n",
       "      <td>-17324</td>\n",
       "      <td>-1.181190</td>\n",
       "    </tr>\n",
       "    <tr>\n",
       "      <th>2013</th>\n",
       "      <td>1440463</td>\n",
       "      <td>1437024</td>\n",
       "      <td>3439</td>\n",
       "      <td>0.238743</td>\n",
       "    </tr>\n",
       "    <tr>\n",
       "      <th>2016</th>\n",
       "      <td>1367103</td>\n",
       "      <td>1488574</td>\n",
       "      <td>-121471</td>\n",
       "      <td>-8.885285</td>\n",
       "    </tr>\n",
       "  </tbody>\n",
       "</table>\n",
       "</div>"
      ],
      "text/plain": [
       "      ResidCA  Prediction  Difference  % Difference\n",
       "1973  1189801     1167142       22659      1.904436\n",
       "1982  1232826     1290698      -57872     -4.694255\n",
       "1983  1226313     1192869       33444      2.727199\n",
       "1987  1308727     1359856      -51129     -3.906774\n",
       "1994  1369438     1354131       15307      1.117758\n",
       "2000  1426721     1355310       71411      5.005253\n",
       "2001  1417985     1354131       63854      4.503151\n",
       "2002  1425659     1354131       71528      5.017189\n",
       "2010  1466657     1483981      -17324     -1.181190\n",
       "2013  1440463     1437024        3439      0.238743\n",
       "2016  1367103     1488574     -121471     -8.885285"
      ]
     },
     "execution_count": 69,
     "metadata": {},
     "output_type": "execute_result"
    }
   ],
   "source": [
    "y_test['Difference'] = y_test['ResidCA'] - y_test['Prediction']\n",
    "y_test['% Difference'] = y_test['Difference'] / y_test['ResidCA'] * 100\n",
    "y_test"
   ]
  },
  {
   "cell_type": "code",
   "execution_count": 70,
   "id": "15f09f4e",
   "metadata": {},
   "outputs": [
    {
     "name": "stdout",
     "output_type": "stream",
     "text": [
      "Accuracy (5%):0.7272727272727273\n"
     ]
    }
   ],
   "source": [
    "within5, totalRows = 0, 0\n",
    "for index, row in y_test.iterrows():\n",
    "    if row['% Difference'] >= -5 and row['% Difference'] <= 5:\n",
    "        within5 += 1\n",
    "    totalRows += 1\n",
    "accuracy = within5/int(totalRows)\n",
    "print(\"Accuracy (5%):\" + str(accuracy))"
   ]
  }
 ],
 "metadata": {
  "kernelspec": {
   "display_name": "Python 3 (ipykernel)",
   "language": "python",
   "name": "python3"
  },
  "language_info": {
   "codemirror_mode": {
    "name": "ipython",
    "version": 3
   },
   "file_extension": ".py",
   "mimetype": "text/x-python",
   "name": "python",
   "nbconvert_exporter": "python",
   "pygments_lexer": "ipython3",
   "version": "3.9.13"
  }
 },
 "nbformat": 4,
 "nbformat_minor": 5
}
