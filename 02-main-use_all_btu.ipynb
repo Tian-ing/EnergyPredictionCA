{
 "cells": [
  {
   "cell_type": "code",
   "execution_count": null,
   "metadata": {},
   "outputs": [],
   "source": [
    "import pandas as pd\n",
    "import numpy as np\n",
    "from pmdarima import auto_arima\n",
    "import plotly.graph_objects as go\n",
    "from sklearn.metrics import mean_absolute_error, mean_squared_error\n",
    "import os\n"
   ]
  },
  {
   "attachments": {},
   "cell_type": "markdown",
   "metadata": {},
   "source": [
    "# Using all BTU Datasets"
   ]
  },
  {
   "cell_type": "code",
   "execution_count": null,
   "metadata": {},
   "outputs": [],
   "source": [
    "# Read the Excel file\n",
    "# Data_Status: Indicates the status of the data. The value \"2020F\" suggests that it is a forecast for the year 2020.\n",
    "# State: Represents the state for which the data is recorded (in this case, \"CA\" for California).\n",
    "# MSN: Stands for \"Monthly State Names\" and refers to the specific energy metric or variable being measured. Examples include ARICD, ARICV, ARTCD, ARTCV, ARTXD, WWTXV, WXICD, WXICV, ZWCDP, ZWHDP.\n",
    "df = pd.read_csv('Datasets/use_all_btu.csv')\n",
    "df.drop('Data_Status',axis=1,inplace=True)"
   ]
  },
  {
   "cell_type": "code",
   "execution_count": null,
   "metadata": {},
   "outputs": [],
   "source": [
    "df.head()"
   ]
  },
  {
   "attachments": {},
   "cell_type": "markdown",
   "metadata": {},
   "source": [
    "# Data statistics"
   ]
  },
  {
   "cell_type": "code",
   "execution_count": null,
   "metadata": {},
   "outputs": [],
   "source": [
    "df"
   ]
  },
  {
   "cell_type": "code",
   "execution_count": null,
   "metadata": {},
   "outputs": [],
   "source": [
    "df.head()"
   ]
  },
  {
   "cell_type": "code",
   "execution_count": null,
   "metadata": {},
   "outputs": [],
   "source": [
    "df.describe()"
   ]
  },
  {
   "cell_type": "code",
   "execution_count": null,
   "metadata": {},
   "outputs": [],
   "source": [
    "df.info()"
   ]
  },
  {
   "attachments": {},
   "cell_type": "markdown",
   "metadata": {},
   "source": [
    "# Transformation of Data"
   ]
  },
  {
   "cell_type": "code",
   "execution_count": null,
   "metadata": {},
   "outputs": [],
   "source": [
    "df# Assuming your DataFrame is called 'df'\n",
    "df_trans = df.melt(id_vars=['State', 'MSN'], var_name='Year', value_name='Yearly Data')\n",
    "# df['Year'] = pd.to_datetime(df['Year'], format='%Y')\n",
    "\n",
    "# Set the 'State', 'MSN', and 'Year' columns as the index\n",
    "df_trans.set_index(['State', 'MSN', 'Year'], inplace=True)\n",
    "\n",
    "# Sort the index in ascending order\n",
    "df_trans.sort_index(inplace=True)\n",
    "\n",
    "# Print the resulting time series DataFrame\n",
    "df_trans.reset_index(inplace=True)\n",
    "df_trans['Year'] = pd.to_datetime(df_trans['Year'], format='%Y')\n",
    "\n",
    "df_trans.head()\n"
   ]
  },
  {
   "attachments": {},
   "cell_type": "markdown",
   "metadata": {},
   "source": [
    "# Modeling the Data"
   ]
  },
  {
   "attachments": {},
   "cell_type": "markdown",
   "metadata": {},
   "source": [
    "## Using ARIMA Model"
   ]
  },
  {
   "cell_type": "code",
   "execution_count": null,
   "metadata": {},
   "outputs": [],
   "source": [
    "os.makedirs('Plots/use_all_btu_datasets/Arima_results_plots',exist_ok=True)\n",
    "\n",
    "os.makedirs('Plots/Arima_results_plots',exist_ok=True)\n",
    "\n",
    "for State in df_trans['State'].unique():\n",
    "    for msn in df_trans['MSN'].unique():\n",
    "        try:\n",
    "            \n",
    "            fig = go.Figure()\n",
    "\n",
    "            print('State : {} and MSN : {}'.format(State,msn))\n",
    "            # Get the energy consumption data for the current country and sector\n",
    "            df_filter = df_trans[(df_trans['State'] == State) & (\n",
    "                df_trans['MSN'] == msn)][['Year', 'Yearly Data']]\n",
    "            df_filter_index = df_filter.set_index('Year')\n",
    "\n",
    "            train_data = df_filter[:-5]\n",
    "            test_data = df_filter[-5:]\n",
    "            \n",
    "            # Prepare the data for modeling\n",
    "            years = df_filter_index.index\n",
    "            energy_consumption = df_filter_index.values.flatten()\n",
    "\n",
    "                    # Split the data into training and testing\n",
    "            # Use all data except the last 5 years for training\n",
    "            Horizan = -5\n",
    "            train_data = energy_consumption[:Horizan]\n",
    "            test_data = energy_consumption[Horizan:]  # Use the last 5 years for testing\n",
    "\n",
    "            # Fit the auto ARIMA model\n",
    "            model = auto_arima(train_data, seasonal=False)\n",
    "            model.fit(train_data)\n",
    "\n",
    "            # Generate predictions\n",
    "            predictions = model.predict(n_periods=len(test_data))\n",
    "            predictions_ahead_in_future = model.predict(n_periods=len(test_data)+15)\n",
    "\n",
    "            # Calculate evaluation metrics\n",
    "            mae = mean_absolute_error(test_data, predictions)\n",
    "            mse = mean_squared_error(test_data, predictions)\n",
    "            mape = np.mean(np.abs((test_data - predictions) / test_data)) * 100\n",
    "\n",
    "            print('Mean Absolute Error (MAE):', np.round(mae,2))\n",
    "            print('Mean Squared Error (MSE):', np.round(mse,2))\n",
    "            print('Mean Absolute Percentage Error (MAPE):', np.round(mape,2))\n",
    "            \n",
    "            # Plot the training data\n",
    "            fig.add_trace(go.Scatter(\n",
    "                x=years[:Horizan], y=train_data, mode='lines+markers', name='Training Data'))\n",
    "\n",
    "            # Plot the predictions\n",
    "            fig.add_trace(go.Scatter(\n",
    "                x=years[Horizan:], y=test_data, mode='lines+markers', name='Actual'))\n",
    "            fig.add_trace(go.Scatter(\n",
    "                x=years[Horizan:], y=predictions, mode='lines+markers', name='Predicted'))\n",
    "\n",
    "            fig.add_trace(go.Scatter(\n",
    "                x=pd.date_range(start = years[Horizan],periods=15,freq='Y'), y=predictions_ahead_in_future, mode='lines+markers', name='Prediction till 2030'))\n",
    "\n",
    "            # Update the layout\n",
    "            fig.update_layout(title=f'Energy Consumption Forecast State using ARIMA : {State} : MSN : {msn} ',\n",
    "                            xaxis_title='Year', yaxis_title='Energy Consumption')\n",
    "\n",
    "            # Show the plot\n",
    "            fig.show()\n",
    "            print(State,msn)\n",
    "            fig.write_image(f'Plots/use_all_btu_datasets/Arima_results_plots/{State}_{msn}.png')\n",
    "            # break\n",
    "        except:\n",
    "            print('Error occoured in Combination State : {} and MSN : {} Due NaN Value'.format(State,mse))\n",
    "        break"
   ]
  },
  {
   "attachments": {},
   "cell_type": "markdown",
   "metadata": {},
   "source": [
    "# Using SARIMA Model"
   ]
  },
  {
   "cell_type": "code",
   "execution_count": null,
   "metadata": {},
   "outputs": [],
   "source": [
    "os.makedirs('Plots/use_all_btu_datasets/Sarima_results_plots',exist_ok=True)\n",
    "\n",
    "os.makedirs('Plots/Arima_results_plots',exist_ok=True)\n",
    "\n",
    "for State in df_trans['State'].unique():\n",
    "    for msn in df_trans['MSN'].unique():\n",
    "        try:\n",
    "            \n",
    "            fig = go.Figure()\n",
    "\n",
    "            print('State : {} and MSN : {}'.format(State,msn))\n",
    "            # Get the energy consumption data for the current country and sector\n",
    "            df_filter = df_trans[(df_trans['State'] == State) & (\n",
    "                df_trans['MSN'] == msn)][['Year', 'Yearly Data']]\n",
    "            df_filter_index = df_filter.set_index('Year')\n",
    "\n",
    "            train_data = df_filter[:-5]\n",
    "            test_data = df_filter[-5:]\n",
    "            \n",
    "            # Prepare the data for modeling\n",
    "            years = df_filter_index.index\n",
    "            energy_consumption = df_filter_index.values.flatten()\n",
    "\n",
    "                    # Split the data into training and testing\n",
    "            # Use all data except the last 5 years for training\n",
    "            Horizan = -5\n",
    "            train_data = energy_consumption[:Horizan]\n",
    "            test_data = energy_consumption[Horizan:]  # Use the last 5 years for testing\n",
    "\n",
    "            # Fit the auto ARIMA model\n",
    "            model = auto_arima(train_data, seasonal=True)\n",
    "            model.fit(train_data)\n",
    "\n",
    "            # Generate predictions\n",
    "            predictions = model.predict(n_periods=len(test_data))\n",
    "            predictions_ahead_in_future = model.predict(n_periods=len(test_data)+15)\n",
    "\n",
    "            # Calculate evaluation metrics\n",
    "            mae = mean_absolute_error(test_data, predictions)\n",
    "            mse = mean_squared_error(test_data, predictions)\n",
    "            mape = np.mean(np.abs((test_data - predictions) / test_data)) * 100\n",
    "\n",
    "            print('Mean Absolute Error (MAE):', np.round(mae,2))\n",
    "            print('Mean Squared Error (MSE):', np.round(mse,2))\n",
    "            print('Mean Absolute Percentage Error (MAPE):', np.round(mape,2))\n",
    "            \n",
    "            # Plot the training data\n",
    "            fig.add_trace(go.Scatter(\n",
    "                x=years[:Horizan], y=train_data, mode='lines+markers', name='Training Data'))\n",
    "\n",
    "            # Plot the predictions\n",
    "            fig.add_trace(go.Scatter(\n",
    "                x=years[Horizan:], y=test_data, mode='lines+markers', name='Actual'))\n",
    "            fig.add_trace(go.Scatter(\n",
    "                x=years[Horizan:], y=predictions, mode='lines+markers', name='Predicted'))\n",
    "\n",
    "            fig.add_trace(go.Scatter(\n",
    "                x=pd.date_range(start = years[Horizan],periods=15,freq='Y'), y=predictions_ahead_in_future, mode='lines+markers', name='Prediction till 2030'))\n",
    "\n",
    "            # Update the layout\n",
    "            fig.update_layout(title=f'Energy Consumption Forecast State using ARIMA : {State} : MSN : {msn} ',\n",
    "                            xaxis_title='Year', yaxis_title='Energy Consumption')\n",
    "\n",
    "            # Show the plot\n",
    "            fig.show()\n",
    "            fig.write_image(f'Plots/use_all_btu_datasets/Sarima_results_plots/{State}_{msn}.png')\n",
    "            # break\n",
    "        except:\n",
    "            print('Error occoured in Combination State : {} and MSN : {} Due NaN Value'.format(State,mse))\n",
    "        break"
   ]
  }
 ],
 "metadata": {
  "kernelspec": {
   "display_name": "sep_darts_2",
   "language": "python",
   "name": "python3"
  },
  "language_info": {
   "codemirror_mode": {
    "name": "ipython",
    "version": 3
   },
   "file_extension": ".py",
   "mimetype": "text/x-python",
   "name": "python",
   "nbconvert_exporter": "python",
   "pygments_lexer": "ipython3",
   "version": "3.11.3"
  },
  "orig_nbformat": 4
 },
 "nbformat": 4,
 "nbformat_minor": 2
}
